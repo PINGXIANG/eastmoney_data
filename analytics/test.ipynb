{
 "cells": [
  {
   "cell_type": "code",
   "execution_count": 4,
   "metadata": {},
   "outputs": [
    {
     "name": "stdout",
     "output_type": "stream",
     "text": [
      "\n"
     ]
    }
   ],
   "source": [
    "from collections import deque\n",
    "\n",
    "def findApproach(matrix):\n",
    "    rows, cols = len(matrix), len(matrix[0])\n",
    "    start = None\n",
    "    target = None\n",
    "\n",
    "    # Find the positions of \"B\" and \"X\"\n",
    "    for i in range(rows):\n",
    "        for j in range(cols):\n",
    "            if matrix[i][j] == \"B\":\n",
    "                start = (i, j, \"V\")  # Start with the cuboid in a vertical position\n",
    "            elif matrix[i][j] == \"X\":\n",
    "                target = (i, j)\n",
    "\n",
    "    # Initialize BFS queue and visited dictionary\n",
    "    queue = deque([(start, [])])  # Each element in the queue is (position, path)\n",
    "    visited = set()\n",
    "\n",
    "    # Define possible moves\n",
    "    moves = [(0, 1), (0, -1), (1, 0), (-1, 0)]\n",
    "\n",
    "    while queue:\n",
    "        (x, y, cuboid_state), path = queue.popleft()\n",
    "\n",
    "        if (x, y) == target:\n",
    "            return ''.join(path)  # Combine the moves to form the approach\n",
    "\n",
    "        visited.add((x, y, cuboid_state))\n",
    "\n",
    "        # Try all possible moves\n",
    "        for dx, dy in moves:\n",
    "            new_x, new_y = x + dx, y + dy\n",
    "\n",
    "            if 0 <= new_x < rows and 0 <= new_y < cols:\n",
    "                new_state = cuboid_state\n",
    "\n",
    "                if matrix[new_x][new_y] == \"1\":\n",
    "                    # Check if the cuboid can change its orientation\n",
    "                    if cuboid_state == \"H\":\n",
    "                        new_state = \"V\" if dx == 0 else \"H\"\n",
    "                    else:\n",
    "                        new_state = \"H\" if dx == 0 else \"V\"\n",
    "\n",
    "                new_position = (new_x, new_y, new_state)\n",
    "\n",
    "                if new_position not in visited:\n",
    "                    new_path = path + [\"R\"] if dx == 0 else path + [\"D\"]\n",
    "                    queue.append((new_position, new_path))\n",
    "\n",
    "    return \"\"  # No valid approach found\n",
    "\n",
    "# Example usage:\n",
    "matrix = [\"1110000000\", \"1B11110000\", \"1111111110\", \"00000011x11\", \"0000001110\"]\n",
    "approach = findApproach(matrix)\n",
    "print(approach)  # Output: \"RRRRRDDRDRDDRRDDDDRRR\" or similar approaches"
   ]
  },
  {
   "cell_type": "code",
   "execution_count": 40,
   "metadata": {},
   "outputs": [
    {
     "data": {
      "text/plain": [
       "(0, (1, 0))"
      ]
     },
     "execution_count": 40,
     "metadata": {},
     "output_type": "execute_result"
    }
   ],
   "source": [
    "import heapq\n",
    "pq = [(1,(1,0)),(2,(0,1)),(1,(1,0)),(0,(1,0))]\n",
    "\n",
    "heapq.heapify(pq)\n",
    "heapq.heappop(pq)"
   ]
  },
  {
   "cell_type": "code",
   "execution_count": 34,
   "metadata": {},
   "outputs": [],
   "source": [
    "pq.sort()"
   ]
  },
  {
   "cell_type": "code",
   "execution_count": 35,
   "metadata": {},
   "outputs": [
    {
     "data": {
      "text/plain": [
       "[((-10, -10), -20), ((0, 0), -1)]"
      ]
     },
     "execution_count": 35,
     "metadata": {},
     "output_type": "execute_result"
    }
   ],
   "source": [
    "pq"
   ]
  },
  {
   "cell_type": "code",
   "execution_count": 46,
   "metadata": {},
   "outputs": [],
   "source": [
    "queue= deque([((0,0), set())])"
   ]
  },
  {
   "cell_type": "code",
   "execution_count": 49,
   "metadata": {},
   "outputs": [],
   "source": [
    "(i,j),p = queue[0]"
   ]
  },
  {
   "cell_type": "code",
   "execution_count": 51,
   "metadata": {},
   "outputs": [],
   "source": [
    "p.add((i,j))"
   ]
  },
  {
   "cell_type": "code",
   "execution_count": 52,
   "metadata": {},
   "outputs": [
    {
     "data": {
      "text/plain": [
       "{(0, 0)}"
      ]
     },
     "execution_count": 52,
     "metadata": {},
     "output_type": "execute_result"
    }
   ],
   "source": [
    "p"
   ]
  },
  {
   "cell_type": "code",
   "execution_count": 53,
   "metadata": {},
   "outputs": [
    {
     "data": {
      "text/plain": [
       "[[1, 1, 0, 0, 0, 0],\n",
       " [1, 1, 1, 1, 1, 1],\n",
       " [1, 1, 1, 1, 1, 1],\n",
       " [1, 1, 1, 1, 0, 1],\n",
       " [0, 0, 0, 1, 1, 1],\n",
       " [0, 0, 0, 1, 0, 1],\n",
       " [0, 0, 0, 1, 0, 1],\n",
       " [0, 0, 0, 1, 0, 1],\n",
       " [0, 0, 0, 1, 0, 1],\n",
       " [0, 0, 0, 1, 1, 1]]"
      ]
     },
     "execution_count": 53,
     "metadata": {},
     "output_type": "execute_result"
    }
   ],
   "source": [
    "[[1,1,0,0,0,0],[1,1,1,1,1,1],[1,1,1,1,1,1],[1,1,1,1,0,1],[0,0,0,1,1,1],[0,0,0,1,0,1],[0,0,0,1,0,1],[0,0,0,1,0,1],[0,0,0,1,0,1],[0,0,0,1,1,1]]"
   ]
  },
  {
   "cell_type": "code",
   "execution_count": 54,
   "metadata": {},
   "outputs": [
    {
     "data": {
      "text/plain": [
       "[[(0, 0),\n",
       "  (0, 1),\n",
       "  (1, 1),\n",
       "  (1, 2),\n",
       "  (1, 3),\n",
       "  (1, 4),\n",
       "  (1, 5),\n",
       "  (2, 5),\n",
       "  (3, 5),\n",
       "  (4, 5),\n",
       "  (5, 5),\n",
       "  (6, 5),\n",
       "  (7, 5),\n",
       "  (8, 5)],\n",
       " [(0, 0),\n",
       "  (0, 1),\n",
       "  (1, 1),\n",
       "  (1, 2),\n",
       "  (1, 3),\n",
       "  (2, 3),\n",
       "  (3, 3),\n",
       "  (4, 3),\n",
       "  (5, 3),\n",
       "  (6, 3),\n",
       "  (7, 3),\n",
       "  (8, 3),\n",
       "  (9, 3),\n",
       "  (9, 4)]]"
      ]
     },
     "execution_count": 54,
     "metadata": {},
     "output_type": "execute_result"
    }
   ],
   "source": [
    "[[(0, 0), (0, 1), (1, 1), (1, 2), (1, 3), (1, 4), (1, 5), (2, 5), (3, 5), (4, 5), (5, 5), (6, 5), (7, 5), (8, 5)], [(0, 0), (0, 1), (1, 1), (1, 2), (1, 3), (2, 3), (3, 3), (4, 3), (5, 3), (6, 3), (7, 3), (8, 3), (9, 3), (9, 4)]]"
   ]
  },
  {
   "cell_type": "code",
   "execution_count": 55,
   "metadata": {},
   "outputs": [
    {
     "ename": "TypeError",
     "evalue": "unbound method set.intersection() needs an argument",
     "output_type": "error",
     "traceback": [
      "\u001b[1;31m---------------------------------------------------------------------------\u001b[0m",
      "\u001b[1;31mTypeError\u001b[0m                                 Traceback (most recent call last)",
      "\u001b[1;32md:\\Documents\\PycharmProject\\eastmoney_data\\analytics\\test.ipynb Cell 11\u001b[0m in \u001b[0;36m<cell line: 1>\u001b[1;34m()\u001b[0m\n\u001b[1;32m----> <a href='vscode-notebook-cell:/d%3A/Documents/PycharmProject/eastmoney_data/analytics/test.ipynb#X13sZmlsZQ%3D%3D?line=0'>1</a>\u001b[0m \u001b[39mset\u001b[39;49m\u001b[39m.\u001b[39;49mintersection(\u001b[39m*\u001b[39;49m[])\n",
      "\u001b[1;31mTypeError\u001b[0m: unbound method set.intersection() needs an argument"
     ]
    }
   ],
   "source": [
    "set.intersection(*[])"
   ]
  },
  {
   "cell_type": "code",
   "execution_count": 29,
   "metadata": {},
   "outputs": [
    {
     "name": "stdout",
     "output_type": "stream",
     "text": [
      "0\t7/9\t7/4\t3\tNone\tNone\n",
      "\n",
      "-7/9\t0\t1\tNone\tNone\tNone\n",
      "\n",
      "-7/4\t-1\tNone\tNone\tNone\tNone\n",
      "\n",
      "-3\tNone\tNone\tNone\tNone\tNone\n",
      "\n",
      "None\tNone\tNone\tNone\tNone\tNone\n",
      "\n",
      "None\tNone\tNone\tNone\tNone\t0\n"
     ]
    }
   ],
   "source": [
    "from fractions import Fraction\n",
    "\n",
    "\n",
    "class Solution:\n",
    "    def __init__(self):\n",
    "        self.Es = None\n",
    "\n",
    "    def E(self, black: int, red: int, b: int, r: int, Es: list) -> float:\n",
    "        if b == black:\n",
    "            Es[b][r] = (3 - black) - b\n",
    "        elif r == red:\n",
    "            Es[b][r] = r - b\n",
    "        elif b + r == 3:\n",
    "            Es[b][r] = r - b\n",
    "\n",
    "        if Es[b][r] is None:\n",
    "            Eb = Fraction(black - b, black + red - b - r) * self.E(black, red, b + 1, r, Es) if b < black else 0\n",
    "            Er = Fraction(red - r, black + red - b - r) * self.E(black, red, b, r + 1, Es) if r < red else 0\n",
    "            Es[b][r] = Eb + Er\n",
    "\n",
    "        return Es[b][r]\n",
    "\n",
    "    def redBlackJack(self, black: int, red: int):\n",
    "        Es = [[None for _ in range(black + 1)] for _ in range(red + 1)]\n",
    "        Es[black][red] = 0\n",
    "        res = self.E(black, red, 0, 0, Es)\n",
    "        self.Es = Es\n",
    "        return res\n",
    "\n",
    "\n",
    "s = Solution()\n",
    "s.redBlackJack(5, 5)\n",
    "print('\\n\\n'.join(['\\t'.join([str(cell) for cell in row]) for row in s.Es]))\n"
   ]
  },
  {
   "cell_type": "code",
   "execution_count": 25,
   "metadata": {},
   "outputs": [
    {
     "name": "stdout",
     "output_type": "stream",
     "text": [
      "0\t1\t2\t3\t4\t5\n",
      "\n",
      "-1\t0\t1\t2\t3\t4\n",
      "\n",
      "-2\t-1\t0\t1\t2\t3\n",
      "\n",
      "-3\t-2\t-1\t0\t1\t2\n",
      "\n",
      "-4\t-3\t-2\t-1\t0\t1\n",
      "\n",
      "-5\t-4\t-3\t-2\t-1\t0\n"
     ]
    }
   ],
   "source": [
    "print('\\n\\n'.join(['\\t'.join([str(r - b) for r in range(5+1)]) for b in range(5+1)]))"
   ]
  },
  {
   "cell_type": "code",
   "execution_count": null,
   "metadata": {},
   "outputs": [],
   "source": []
  }
 ],
 "metadata": {
  "kernelspec": {
   "display_name": "xgboostEnv",
   "language": "python",
   "name": "python3"
  },
  "language_info": {
   "codemirror_mode": {
    "name": "ipython",
    "version": 3
   },
   "file_extension": ".py",
   "mimetype": "text/x-python",
   "name": "python",
   "nbconvert_exporter": "python",
   "pygments_lexer": "ipython3",
   "version": "3.9.12"
  },
  "orig_nbformat": 4
 },
 "nbformat": 4,
 "nbformat_minor": 2
}
