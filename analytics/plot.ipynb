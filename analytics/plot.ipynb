{
 "cells": [
  {
   "cell_type": "code",
   "execution_count": 1,
   "metadata": {},
   "outputs": [
    {
     "data": {
      "text/plain": [
       "'d:\\\\Documents\\\\PycharmProject\\\\eastmoney_data'"
      ]
     },
     "execution_count": 1,
     "metadata": {},
     "output_type": "execute_result"
    }
   ],
   "source": [
    "import pandas as pd \n",
    "import numpy as np\n",
    "import os\n",
    "import sys\n",
    "from datetime import datetime\n",
    "\n",
    "os.chdir(sys.path[0] + \"\\\\..\")\n",
    "os.getcwd()"
   ]
  },
  {
   "cell_type": "code",
   "execution_count": 2,
   "metadata": {},
   "outputs": [
    {
     "data": {
      "text/html": [
       "<div>\n",
       "<style scoped>\n",
       "    .dataframe tbody tr th:only-of-type {\n",
       "        vertical-align: middle;\n",
       "    }\n",
       "\n",
       "    .dataframe tbody tr th {\n",
       "        vertical-align: top;\n",
       "    }\n",
       "\n",
       "    .dataframe thead th {\n",
       "        text-align: right;\n",
       "    }\n",
       "</style>\n",
       "<table border=\"1\" class=\"dataframe\">\n",
       "  <thead>\n",
       "    <tr style=\"text-align: right;\">\n",
       "      <th></th>\n",
       "      <th>stockCode</th>\n",
       "      <th>stockName</th>\n",
       "      <th>sector</th>\n",
       "      <th>sectorCount</th>\n",
       "      <th>date</th>\n",
       "    </tr>\n",
       "  </thead>\n",
       "  <tbody>\n",
       "    <tr>\n",
       "      <th>0</th>\n",
       "      <td>600337</td>\n",
       "      <td>美克家居</td>\n",
       "      <td>2025规划</td>\n",
       "      <td>82</td>\n",
       "      <td>2023-05-31</td>\n",
       "    </tr>\n",
       "    <tr>\n",
       "      <th>1</th>\n",
       "      <td>300720</td>\n",
       "      <td>海川智能</td>\n",
       "      <td>2025规划</td>\n",
       "      <td>82</td>\n",
       "      <td>2023-05-31</td>\n",
       "    </tr>\n",
       "    <tr>\n",
       "      <th>2</th>\n",
       "      <td>810</td>\n",
       "      <td>创维数字</td>\n",
       "      <td>2025规划</td>\n",
       "      <td>82</td>\n",
       "      <td>2023-05-31</td>\n",
       "    </tr>\n",
       "    <tr>\n",
       "      <th>3</th>\n",
       "      <td>603111</td>\n",
       "      <td>康尼机电</td>\n",
       "      <td>2025规划</td>\n",
       "      <td>82</td>\n",
       "      <td>2023-05-31</td>\n",
       "    </tr>\n",
       "    <tr>\n",
       "      <th>4</th>\n",
       "      <td>300729</td>\n",
       "      <td>乐歌股份</td>\n",
       "      <td>2025规划</td>\n",
       "      <td>82</td>\n",
       "      <td>2023-05-31</td>\n",
       "    </tr>\n",
       "    <tr>\n",
       "      <th>...</th>\n",
       "      <td>...</td>\n",
       "      <td>...</td>\n",
       "      <td>...</td>\n",
       "      <td>...</td>\n",
       "      <td>...</td>\n",
       "    </tr>\n",
       "    <tr>\n",
       "      <th>61307</th>\n",
       "      <td>600666</td>\n",
       "      <td>*ST瑞德</td>\n",
       "      <td>黑龙江板块</td>\n",
       "      <td>40</td>\n",
       "      <td>2023-05-31</td>\n",
       "    </tr>\n",
       "    <tr>\n",
       "      <th>61308</th>\n",
       "      <td>300900</td>\n",
       "      <td>广联航空</td>\n",
       "      <td>黑龙江板块</td>\n",
       "      <td>40</td>\n",
       "      <td>2023-05-31</td>\n",
       "    </tr>\n",
       "    <tr>\n",
       "      <th>61309</th>\n",
       "      <td>600853</td>\n",
       "      <td>龙建股份</td>\n",
       "      <td>黑龙江板块</td>\n",
       "      <td>40</td>\n",
       "      <td>2023-05-31</td>\n",
       "    </tr>\n",
       "    <tr>\n",
       "      <th>61310</th>\n",
       "      <td>688459</td>\n",
       "      <td>哈铁科技</td>\n",
       "      <td>黑龙江板块</td>\n",
       "      <td>40</td>\n",
       "      <td>2023-05-31</td>\n",
       "    </tr>\n",
       "    <tr>\n",
       "      <th>61311</th>\n",
       "      <td>985</td>\n",
       "      <td>大庆华科</td>\n",
       "      <td>黑龙江板块</td>\n",
       "      <td>40</td>\n",
       "      <td>2023-05-31</td>\n",
       "    </tr>\n",
       "  </tbody>\n",
       "</table>\n",
       "<p>61312 rows × 5 columns</p>\n",
       "</div>"
      ],
      "text/plain": [
       "       stockCode stockName  sector  sectorCount        date\n",
       "0         600337      美克家居  2025规划           82  2023-05-31\n",
       "1         300720      海川智能  2025规划           82  2023-05-31\n",
       "2            810      创维数字  2025规划           82  2023-05-31\n",
       "3         603111      康尼机电  2025规划           82  2023-05-31\n",
       "4         300729      乐歌股份  2025规划           82  2023-05-31\n",
       "...          ...       ...     ...          ...         ...\n",
       "61307     600666     *ST瑞德   黑龙江板块           40  2023-05-31\n",
       "61308     300900      广联航空   黑龙江板块           40  2023-05-31\n",
       "61309     600853      龙建股份   黑龙江板块           40  2023-05-31\n",
       "61310     688459      哈铁科技   黑龙江板块           40  2023-05-31\n",
       "61311        985      大庆华科   黑龙江板块           40  2023-05-31\n",
       "\n",
       "[61312 rows x 5 columns]"
      ]
     },
     "execution_count": 2,
     "metadata": {},
     "output_type": "execute_result"
    }
   ],
   "source": [
    "dirPath = \"data/raw/sohu_stock/\"\n",
    "data_date_lst = [] \n",
    "for filename in os.listdir(dirPath):\n",
    "    if os.path.isdir(dirPath + filename):\n",
    "        data_date_lst.append(datetime.strptime(filename, '%Y-%m-%d').date())\n",
    "\n",
    "date = max(data_date_lst).strftime('%Y-%m-%d')\n",
    "tag_df = pd.read_csv(dirPath + date + \".csv\")\n",
    "tag_df"
   ]
  },
  {
   "cell_type": "code",
   "execution_count": 21,
   "metadata": {},
   "outputs": [
    {
     "data": {
      "text/plain": [
       "['003000',\n",
       " '002525',\n",
       " '002720',\n",
       " '835368',\n",
       " '002257',\n",
       " '871857',\n",
       " '831445',\n",
       " '002674',\n",
       " '002731',\n",
       " '836826']"
      ]
     },
     "execution_count": 21,
     "metadata": {},
     "output_type": "execute_result"
    }
   ],
   "source": [
    "stock_code_universe = tag_df['stockCode'].drop_duplicates().astype(\"str\").apply(lambda x: x.zfill(6)).to_list()\n",
    "stock_code_universe[-10:]"
   ]
  },
  {
   "cell_type": "code",
   "execution_count": 25,
   "metadata": {},
   "outputs": [],
   "source": [
    "import akshare as ak\n",
    "import pandas as pd\n",
    "from datetime import datetime, timedelta\n",
    "import matplotlib.pyplot as plt\n",
    "import warnings\n",
    "warnings.simplefilter(action='ignore', category=FutureWarning)\n",
    "\n",
    "DEFAULT_LASTMONTH = (datetime.today() - timedelta(days=30)).strftime('%Y%m%d')\n",
    "DEFAULT_TODAY = datetime.today().strftime('%Y%m%d')\n",
    "\n",
    "class AKQueryer:\n",
    "    def __init__(self):\n",
    "        self.data = None\n",
    "        self.price_data_list = []\n",
    "\n",
    "    def getRawData(stock_code_lst, query_data=False, start_date=DEFAULT_LASTMONTH, end_date=DEFAULT_TODAY):\n",
    "        if query_data:\n",
    "            for stock_code in stock_code_lst:\n",
    "                print(\"querying: %s\",str(stock_code))\n",
    "                try:\n",
    "                    self.data = ak.stock_zh_a_hist(symbol=str(stock_code), period=\"daily\", start_date=start_date, end_date=end_date, adjust=\"qfq\")\n",
    "                    self.data[\"stockCode\"] = str(stock_code)\n",
    "                    self.price_data_list.append(self.data)\n",
    "                except:\n",
    "                    pass \n",
    "\n",
    "            price_hist_df = pd.concat(self.price_data_list)\n",
    "        \n",
    "            return price_hist_df"
   ]
  },
  {
   "cell_type": "code",
   "execution_count": null,
   "metadata": {},
   "outputs": [],
   "source": [
    "akqueryer = AKQueryer()\n",
    "price_hist_df = akqeryer.getRawData(stock_code_lst=stock_code_universe,query_data=True)"
   ]
  },
  {
   "cell_type": "code",
   "execution_count": 26,
   "metadata": {},
   "outputs": [],
   "source": [
    "price_hist_df = getRawData(stock_code_lst=stock_code_universe,query_data=True)"
   ]
  },
  {
   "cell_type": "code",
   "execution_count": null,
   "metadata": {},
   "outputs": [],
   "source": [
    "tag_df = tag_df.groupby('sector').agg({\n",
    "    '收盘': lambda x: (x * data_df.loc[x.index, '开盘']).sum() / data_df.loc[x.index, '开盘'].sum(),\n",
    "    '开盘': lambda x: (x * data_df.loc[x.index, '开盘']).sum() / data_df.loc[x.index, '开盘'].sum(),\n",
    "    '成交额' : lambda x: sum(x),\n",
    "                            })"
   ]
  },
  {
   "cell_type": "code",
   "execution_count": null,
   "metadata": {},
   "outputs": [],
   "source": [
    "cache_df = price_hist_df.copy()\n",
    "raw_price_df = pd.DataFrame(price_hist_df)\n"
   ]
  },
  {
   "cell_type": "code",
   "execution_count": null,
   "metadata": {},
   "outputs": [],
   "source": [
    "raw_price_df.groupby(\"stockCode\").agg({\n",
    "            '收盘': lambda x: (x * data_df.loc[x.index, '开盘']).sum() / data_df.loc[x.index, '开盘'].sum(),\n",
    "            '开盘': lambda x: (x * data_df.loc[x.index, '开盘']).sum() / data_df.loc[x.index, '开盘'].sum(),\n",
    "            '成交额' : lambda x: sum(x),\n",
    "})"
   ]
  },
  {
   "cell_type": "code",
   "execution_count": null,
   "metadata": {},
   "outputs": [],
   "source": [
    "sector_list = [\n",
    "    \"AIGC\",\n",
    "    \"算力概念\",\n",
    "    \"光伏\",\n",
    "    \"半导体\"\n",
    "]\n",
    "\n",
    "\n",
    "query_data = True\n",
    "\n",
    "data_list = []\n",
    "stockName_list = []\n",
    "price_hist_raw_df_list = []\n",
    "for sector in sector_list:\n",
    "    stock_code_lst = stock_code_universe.copy()  # 股票代码列表\n",
    "    data,price_hist_df = getIndexData(stock_code_lst, query_data)\n",
    "    data['sector'] = sector\n",
    "    data_list.append(data)\n",
    "    price_hist_raw_df_list.append(price_hist_df)\n"
   ]
  }
 ],
 "metadata": {
  "kernelspec": {
   "display_name": "crawlerEnv",
   "language": "python",
   "name": "python3"
  },
  "language_info": {
   "codemirror_mode": {
    "name": "ipython",
    "version": 3
   },
   "file_extension": ".py",
   "mimetype": "text/x-python",
   "name": "python",
   "nbconvert_exporter": "python",
   "pygments_lexer": "ipython3",
   "version": "3.9.12"
  },
  "orig_nbformat": 4
 },
 "nbformat": 4,
 "nbformat_minor": 2
}
